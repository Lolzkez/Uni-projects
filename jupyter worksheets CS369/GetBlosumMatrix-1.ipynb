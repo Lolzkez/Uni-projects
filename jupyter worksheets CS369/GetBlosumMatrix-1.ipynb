{
 "cells": [
  {
   "cell_type": "code",
   "execution_count": 1,
   "metadata": {},
   "outputs": [],
   "source": [
    "import numpy\n",
    "import pandas\n",
    "\n",
    "\n",
    "def readBLOSUM62():\n",
    "\n",
    "    text_file = open(\"blosum62.txt\", \"r\")\n",
    "    A = text_file.read().split(\"\\n\")\n",
    "    blosum62 = numpy.zeros([23, 23])\n",
    "    for i in range(1,24):\n",
    "        lineSplit = A[i].split(\"\\t\")\n",
    "        for j in range(1,24):\n",
    "            blosum62[i-1,j-1] = lineSplit[j]\n",
    "\n",
    "    # The first 20rows/columns are amino acids and the last 3 represent unknowns\n",
    "    names = [\"A\",\"R\",\"N\",\"D\",\"C\",\"Q\",\"E\",\"G\",\"H\",\"I\",\"L\",\"K\",\"M\",\"F\",\"P\",\"S\",\"T\",\"W\",\"Y\",\"V\",\"B\",\"Z\",\"X\"]\n",
    "    BLOSUM_df = pandas.DataFrame(blosum62, index=names, columns=names)\n",
    "    \n",
    "    return BLOSUM_df\n",
    "\n",
    "\n",
    "\n",
    "# Read in the matrix from the blosum62.txt file. \n",
    "BLOSUM62 = readBLOSUM62()\n",
    "\n",
    "# Get the score for pair [F,P]\n",
    "BLOSUM62[\"F\"][\"P\"]\n",
    "\n",
    "# c.\n",
    "\n",
    "def matrix1(x, y, mt, gp):\n",
    "    matrix = []\n",
    "    d = gp\n",
    "    for i in range(len(x)+1):\n",
    "        sm = []\n",
    "        for j in range(len(y)+1):\n",
    "            sm.append(0)\n",
    "        matrix.append(sm)\n",
    "    for i in range(1, len(x)+1):\n",
    "        for j in range(1, len(y)+1):\n",
    "            xi = x[i-1]\n",
    "            yj = y[j-1]\n",
    "            m = matrix[i-1][j-1] + mt[xi][yj]\n",
    "            delete = matrix[i-1][j] + d\n",
    "            insert = matrix[i][j-1] + d\n",
    "            matrix[i][j] = max(m, delete, insert)\n",
    "    return matrix\n",
    "\n",
    "def alignment(x, y, matrix, gp):\n",
    "    d = gp\n",
    "    align_x = \"\"\n",
    "    align_y = \"\"\n",
    "    m = 0\n",
    "    c = 0\n",
    "    r = 0\n",
    "    for i in range(len(x)+1):\n",
    "        if max(matrix[i]) > m:\n",
    "            m = max(matrix[i])\n",
    "            c = matrix[i].index(m)\n",
    "            r = i\n",
    "    while r > 0 or c > 0:\n",
    "        if r > 0 and c > 0 and matrix[r][c] == matrix[r-1][c-1] + BLOSUM62[x[r-1]][y[c-1]]:\n",
    "            align_x = x[r-1] + align_x\n",
    "            align_y = y[c-1] + align_y\n",
    "            r = r - 1\n",
    "            c = c - 1\n",
    "        elif r > 0 and matrix[r][c] == matrix[r-1][c] + d:\n",
    "            align_x = x[r-1] + align_x\n",
    "            align_y = \"-\" + align_y\n",
    "            r = r-1\n",
    "        else:\n",
    "            align_x = \"-\" + align_x\n",
    "            align_y = y[c-1] + align_y\n",
    "            c = c - 1\n",
    "    return align_x, align_y, m\n",
    "\n"
   ]
  },
  {
   "cell_type": "markdown",
   "metadata": {},
   "source": [
    "a. The F matrix lines have to change from F(i,0) <- d * i to F(i,0) = 0. Same goes for F(0,j). The other change is i and j for the backtrack and form alignment section. Instead of the whole lengths of A and B, the length is from the largest number's index in the matrix. "
   ]
  },
  {
   "cell_type": "markdown",
   "metadata": {},
   "source": [
    "b. It would be different due to overlap alignments being local alignments. "
   ]
  },
  {
   "cell_type": "markdown",
   "metadata": {},
   "source": [
    "d. \n",
    "\n",
    "N1J540:\n",
    "MHPAQLSKLLSIPDSHAQEILDYAATLSKDEAVNHFREFLGNSLEMRNFISAYELQREGSMTSQNTGAPANVTRISNKNTASHKSMSKGVPATSTSKISQKKMTQNDYTAASKKTQFGTSTHSSNPSGPIAHPSNLYPGLNQSKEKNARNGSPAFPNKVKIAISGGQSMHGTSTTISEIEAAIRSLEISTNSSLSSQDPSKRACNCIATQHPLLTAAPNCLSCGKVICVKEGFGPCTYCGEPLLSAVEVQKMISVLREDCGREKMLANDQRQKHATASSNSKPFPQSQPINTQISRAELEARTHRDKLLAFQAQNAKRTTVRDEVAEVNVDLAAVERDMIWATPVERARALKKQQKLLQEQEWNARPEYERKRMVVSLNVVGGKVVKNIGRTERRPQADLIAAAEKSSLEKEEMEPVAQEQGHSTQVFRRNPLELQQQKKPAYTWRRVQDNQDDNESYILDGGLKGREVD\n",
    "\n",
    "H0Y8P2:\n",
    "XILESPEHLPSNFLAQPVNDSAPHPESDATCQQPVKQMRLKKAIHLKKLNFLKSQKYAEQVSEPKSDDGLTKRLESASKNTLEKASSQSAEEKESEEVVSCENFNCISETERPEDPAALEDQSQTLQSQRQYACELCGKPFKHPSNLELHKRSHTGKCFGGSGDLRRHVRTHTG\n"
   ]
  },
  {
   "cell_type": "markdown",
   "metadata": {},
   "source": [
    "e."
   ]
  },
  {
   "cell_type": "code",
   "execution_count": 2,
   "metadata": {},
   "outputs": [
    {
     "name": "stdout",
     "output_type": "stream",
     "text": [
      "N1J540 and zinc-finger\n",
      "-------------------------------------------------------------------------------------------------------------------------------------------------------------------------------------------------------------------------YECENCAKV\n",
      "\n",
      "MHPAQLSKLLSIPDSHAQEILDYAATLSKDEAVNHFREFLGNSLEMRNFISAYELQREGSMTSQNTGAPANVTRISNKNTASHKSMSKGVPATSTSKISQKKMTQNDYTAASKKTQFGTSTHSSNPSGPIAHPSNLYPGLNQSKEKNARNGSPAFPNKVKIAISGGQSMHGTSTTISEIEAAIRSLEISTNSSLSSQDPSKRACNCIATQHPLLTAAPNCLSCGKV\n",
      "Score = 22\n",
      "\n",
      "H0Y8P2 and zinc-finger\n",
      "-----------------------------------------------------------------------------------------------------------------------------------YECENCAKVFTDPSNLQ\n",
      "\n",
      "XILESPEHLPSNFLAQPVNDSAPHPESDATCQQPVKQMRLKKAIHLKKLNFLKSQKYAEQVSEPKSDDGLTKRLESASKNTLEKASSQSAEEKESEEVVSCENFNCISETERPEDPAALEDQSQTLQSQRQYACELCGKPFKHPSNLE\n",
      "Score = 56\n"
     ]
    }
   ],
   "source": [
    "print(\"N1J540 and zinc-finger\")\n",
    "x = \"MHPAQLSKLLSIPDSHAQEILDYAATLSKDEAVNHFREFLGNSLEMRNFISAYELQREGSMTSQNTGAPANVTRISNKNTASHKSMSKGVPATSTSKISQKKMTQNDYTAASKKTQFGTSTHSSNPSGPIAHPSNLYPGLNQSKEKNARNGSPAFPNKVKIAISGGQSMHGTSTTISEIEAAIRSLEISTNSSLSSQDPSKRACNCIATQHPLLTAAPNCLSCGKVICVKEGFGPCTYCGEPLLSAVEVQKMISVLREDCGREKMLANDQRQKHATASSNSKPFPQSQPINTQISRAELEARTHRDKLLAFQAQNAKRTTVRDEVAEVNVDLAAVERDMIWATPVERARALKKQQKLLQEQEWNARPEYERKRMVVSLNVVGGKVVKNIGRTERRPQADLIAAAEKSSLEKEEMEPVAQEQGHSTQVFRRNPLELQQQKKPAYTWRRVQDNQDDNESYILDGGLKGREVD\"\n",
    "y = \"YECENCAKVFTDPSNLQ\"\n",
    "matrix = matrix1(y,x,BLOSUM62,-8)\n",
    "x_align, y_align, score = alignment(y,x,matrix,-8)\n",
    "\n",
    "print(x_align)\n",
    "print()\n",
    "print(y_align)\n",
    "print(\"Score = {:.0f}\".format(score))\n",
    "\n",
    "x = \"XILESPEHLPSNFLAQPVNDSAPHPESDATCQQPVKQMRLKKAIHLKKLNFLKSQKYAEQVSEPKSDDGLTKRLESASKNTLEKASSQSAEEKESEEVVSCENFNCISETERPEDPAALEDQSQTLQSQRQYACELCGKPFKHPSNLELHKRSHTGKCFGGSGDLRRHVRTHTG\"\n",
    "y = \"YECENCAKVFTDPSNLQ\"\n",
    "matrix = matrix1(y,x,BLOSUM62,-8)\n",
    "x_align, y_align, score = alignment(y,x,matrix,-8)\n",
    "print()\n",
    "print(\"H0Y8P2 and zinc-finger\")\n",
    "print(x_align)\n",
    "print()\n",
    "print(y_align)\n",
    "print(\"Score = {:.0f}\".format(score))"
   ]
  },
  {
   "cell_type": "markdown",
   "metadata": {},
   "source": [
    "f. Based on the scores of each alignment, I believe that H0Y8P2 has a zinc-finger. This is because of the alignment score being higher for H0Y8P2 (score = 56) compared to N1J540 (score = 22). The residues that contain the zinc-finger in H0Y8P2 are YACELCGKPFKHPSNLE, which is quite similar to YECENCAKVFTDPSNLQ. "
   ]
  }
 ],
 "metadata": {
  "kernelspec": {
   "display_name": "Python 3 (ipykernel)",
   "language": "python",
   "name": "python3"
  },
  "language_info": {
   "codemirror_mode": {
    "name": "ipython",
    "version": 3
   },
   "file_extension": ".py",
   "mimetype": "text/x-python",
   "name": "python",
   "nbconvert_exporter": "python",
   "pygments_lexer": "ipython3",
   "version": "3.11.2"
  }
 },
 "nbformat": 4,
 "nbformat_minor": 2
}
